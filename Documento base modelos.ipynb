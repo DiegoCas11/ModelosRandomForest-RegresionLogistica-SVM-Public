{
 "cells": [
  {
   "cell_type": "code",
   "execution_count": 2,
   "metadata": {},
   "outputs": [
    {
     "data": {
      "text/html": [
       "<div>\n",
       "<style scoped>\n",
       "    .dataframe tbody tr th:only-of-type {\n",
       "        vertical-align: middle;\n",
       "    }\n",
       "\n",
       "    .dataframe tbody tr th {\n",
       "        vertical-align: top;\n",
       "    }\n",
       "\n",
       "    .dataframe thead th {\n",
       "        text-align: right;\n",
       "    }\n",
       "</style>\n",
       "<table border=\"1\" class=\"dataframe\">\n",
       "  <thead>\n",
       "    <tr style=\"text-align: right;\">\n",
       "      <th></th>\n",
       "      <th>headline</th>\n",
       "      <th>clickbait</th>\n",
       "    </tr>\n",
       "  </thead>\n",
       "  <tbody>\n",
       "    <tr>\n",
       "      <th>0</th>\n",
       "      <td>This Is What $1 USD Gets You In Food All Aroun...</td>\n",
       "      <td>1</td>\n",
       "    </tr>\n",
       "    <tr>\n",
       "      <th>1</th>\n",
       "      <td>Make These Easy Chicken Fajita Quesadillas At ...</td>\n",
       "      <td>1</td>\n",
       "    </tr>\n",
       "    <tr>\n",
       "      <th>2</th>\n",
       "      <td>The Hardest \"Walking Dead\" Video Game Quiz You...</td>\n",
       "      <td>1</td>\n",
       "    </tr>\n",
       "    <tr>\n",
       "      <th>3</th>\n",
       "      <td>34 Online Shops Based In The Southeast You Sho...</td>\n",
       "      <td>1</td>\n",
       "    </tr>\n",
       "    <tr>\n",
       "      <th>4</th>\n",
       "      <td>US and France to work together for new Iran sa...</td>\n",
       "      <td>0</td>\n",
       "    </tr>\n",
       "  </tbody>\n",
       "</table>\n",
       "</div>"
      ],
      "text/plain": [
       "                                            headline  clickbait\n",
       "0  This Is What $1 USD Gets You In Food All Aroun...          1\n",
       "1  Make These Easy Chicken Fajita Quesadillas At ...          1\n",
       "2  The Hardest \"Walking Dead\" Video Game Quiz You...          1\n",
       "3  34 Online Shops Based In The Southeast You Sho...          1\n",
       "4  US and France to work together for new Iran sa...          0"
      ]
     },
     "execution_count": 2,
     "metadata": {},
     "output_type": "execute_result"
    }
   ],
   "source": [
    "# 1) Carga el dataset \"clickbait_dataset.csv\"\n",
    "import pandas as pd\n",
    "df= pd.read_csv('clickbait_dataset.csv')\n",
    "df.head()"
   ]
  },
  {
   "cell_type": "code",
   "execution_count": 3,
   "metadata": {},
   "outputs": [],
   "source": [
    "#2) Crea una función de preprocesamiento de texto adecuada al texto que se encuentra en la columna de \"headline\"\n",
    "#Importamos las librerias necesarias.\n",
    "import nltk\n",
    "import re\n",
    "from nltk import word_tokenize\n",
    "from nltk.corpus import stopwords\n",
    "# Tomamos las stop words en inglés\n",
    "stop_words_en= stopwords.words('English')\n",
    "from nltk.stem.wordnet import WordNetLemmatizer\n",
    "# Tomamos el lemmatizer\n",
    "lemmatizer = WordNetLemmatizer()\n",
    "def funcion_preprocesamiento(texto):\n",
    "    # Convertimos el texto en minusculas\n",
    "    texto = texto.lower()\n",
    "    # Eliminamos los caracteres que especifiquemos con ayuda de regex\n",
    "    texto = re.sub(r'([^A-Za-z \\t])|(\\d)','',texto)\n",
    "    # Tokenizamos el texto\n",
    "    texto = word_tokenize(texto)\n",
    "    # Eliminamos las stop words\n",
    "    texto = [palabra for palabra in texto if palabra not in stop_words_en]\n",
    "    # Lemmatizamos el texto\n",
    "    texto = [lemmatizer.lemmatize(palabra) for palabra in texto]\n",
    "    # Unimos el texto\n",
    "    texto = ' '.join(texto)\n",
    "    return texto"
   ]
  },
  {
   "cell_type": "code",
   "execution_count": 4,
   "metadata": {},
   "outputs": [
    {
     "data": {
      "text/html": [
       "<div>\n",
       "<style scoped>\n",
       "    .dataframe tbody tr th:only-of-type {\n",
       "        vertical-align: middle;\n",
       "    }\n",
       "\n",
       "    .dataframe tbody tr th {\n",
       "        vertical-align: top;\n",
       "    }\n",
       "\n",
       "    .dataframe thead th {\n",
       "        text-align: right;\n",
       "    }\n",
       "</style>\n",
       "<table border=\"1\" class=\"dataframe\">\n",
       "  <thead>\n",
       "    <tr style=\"text-align: right;\">\n",
       "      <th></th>\n",
       "      <th>headline</th>\n",
       "      <th>clickbait</th>\n",
       "      <th>headline_cleen</th>\n",
       "    </tr>\n",
       "  </thead>\n",
       "  <tbody>\n",
       "    <tr>\n",
       "      <th>0</th>\n",
       "      <td>This Is What $1 USD Gets You In Food All Aroun...</td>\n",
       "      <td>1</td>\n",
       "      <td>usd get food around world</td>\n",
       "    </tr>\n",
       "    <tr>\n",
       "      <th>1</th>\n",
       "      <td>Make These Easy Chicken Fajita Quesadillas At ...</td>\n",
       "      <td>1</td>\n",
       "      <td>make easy chicken fajita quesadilla home</td>\n",
       "    </tr>\n",
       "    <tr>\n",
       "      <th>2</th>\n",
       "      <td>The Hardest \"Walking Dead\" Video Game Quiz You...</td>\n",
       "      <td>1</td>\n",
       "      <td>hardest walking dead video game quiz youll eve...</td>\n",
       "    </tr>\n",
       "    <tr>\n",
       "      <th>3</th>\n",
       "      <td>34 Online Shops Based In The Southeast You Sho...</td>\n",
       "      <td>1</td>\n",
       "      <td>online shop based southeast shopping</td>\n",
       "    </tr>\n",
       "    <tr>\n",
       "      <th>4</th>\n",
       "      <td>US and France to work together for new Iran sa...</td>\n",
       "      <td>0</td>\n",
       "      <td>u france work together new iran sanction</td>\n",
       "    </tr>\n",
       "    <tr>\n",
       "      <th>...</th>\n",
       "      <td>...</td>\n",
       "      <td>...</td>\n",
       "      <td>...</td>\n",
       "    </tr>\n",
       "    <tr>\n",
       "      <th>31995</th>\n",
       "      <td>Jennifer Lopez Was Perfect On Jimmy Fallon's \"...</td>\n",
       "      <td>1</td>\n",
       "      <td>jennifer lopez perfect jimmy fallons ew</td>\n",
       "    </tr>\n",
       "    <tr>\n",
       "      <th>31996</th>\n",
       "      <td>Basketball: UAAP opens 2008-2009 season with n...</td>\n",
       "      <td>0</td>\n",
       "      <td>basketball uaap open season new rule</td>\n",
       "    </tr>\n",
       "    <tr>\n",
       "      <th>31997</th>\n",
       "      <td>United States charges eleven in credit card fr...</td>\n",
       "      <td>0</td>\n",
       "      <td>united state charge eleven credit card fraud case</td>\n",
       "    </tr>\n",
       "    <tr>\n",
       "      <th>31998</th>\n",
       "      <td>40 Of The Most Powerful Obama Moments Of 2015</td>\n",
       "      <td>1</td>\n",
       "      <td>powerful obama moment</td>\n",
       "    </tr>\n",
       "    <tr>\n",
       "      <th>31999</th>\n",
       "      <td>Here's What The Universal Monsters Would Look ...</td>\n",
       "      <td>1</td>\n",
       "      <td>here universal monster would look like today</td>\n",
       "    </tr>\n",
       "  </tbody>\n",
       "</table>\n",
       "<p>32000 rows × 3 columns</p>\n",
       "</div>"
      ],
      "text/plain": [
       "                                                headline  clickbait  \\\n",
       "0      This Is What $1 USD Gets You In Food All Aroun...          1   \n",
       "1      Make These Easy Chicken Fajita Quesadillas At ...          1   \n",
       "2      The Hardest \"Walking Dead\" Video Game Quiz You...          1   \n",
       "3      34 Online Shops Based In The Southeast You Sho...          1   \n",
       "4      US and France to work together for new Iran sa...          0   \n",
       "...                                                  ...        ...   \n",
       "31995  Jennifer Lopez Was Perfect On Jimmy Fallon's \"...          1   \n",
       "31996  Basketball: UAAP opens 2008-2009 season with n...          0   \n",
       "31997  United States charges eleven in credit card fr...          0   \n",
       "31998      40 Of The Most Powerful Obama Moments Of 2015          1   \n",
       "31999  Here's What The Universal Monsters Would Look ...          1   \n",
       "\n",
       "                                          headline_cleen  \n",
       "0                              usd get food around world  \n",
       "1               make easy chicken fajita quesadilla home  \n",
       "2      hardest walking dead video game quiz youll eve...  \n",
       "3                   online shop based southeast shopping  \n",
       "4               u france work together new iran sanction  \n",
       "...                                                  ...  \n",
       "31995            jennifer lopez perfect jimmy fallons ew  \n",
       "31996               basketball uaap open season new rule  \n",
       "31997  united state charge eleven credit card fraud case  \n",
       "31998                              powerful obama moment  \n",
       "31999       here universal monster would look like today  \n",
       "\n",
       "[32000 rows x 3 columns]"
      ]
     },
     "execution_count": 4,
     "metadata": {},
     "output_type": "execute_result"
    }
   ],
   "source": [
    "# 3) Aplica tu funcion sobre la columna \"headline\"\n",
    "df['headline_cleen'] = df['headline'].apply(funcion_preprocesamiento)\n",
    "df"
   ]
  },
  {
   "cell_type": "code",
   "execution_count": 5,
   "metadata": {},
   "outputs": [
    {
     "data": {
      "text/html": [
       "<div>\n",
       "<style scoped>\n",
       "    .dataframe tbody tr th:only-of-type {\n",
       "        vertical-align: middle;\n",
       "    }\n",
       "\n",
       "    .dataframe tbody tr th {\n",
       "        vertical-align: top;\n",
       "    }\n",
       "\n",
       "    .dataframe thead th {\n",
       "        text-align: right;\n",
       "    }\n",
       "</style>\n",
       "<table border=\"1\" class=\"dataframe\">\n",
       "  <thead>\n",
       "    <tr style=\"text-align: right;\">\n",
       "      <th></th>\n",
       "      <th>headline</th>\n",
       "      <th>clickbait</th>\n",
       "      <th>headline_cleen</th>\n",
       "    </tr>\n",
       "  </thead>\n",
       "  <tbody>\n",
       "    <tr>\n",
       "      <th>0</th>\n",
       "      <td>This Is What $1 USD Gets You In Food All Aroun...</td>\n",
       "      <td>clickbait</td>\n",
       "      <td>usd get food around world</td>\n",
       "    </tr>\n",
       "    <tr>\n",
       "      <th>1</th>\n",
       "      <td>Make These Easy Chicken Fajita Quesadillas At ...</td>\n",
       "      <td>clickbait</td>\n",
       "      <td>make easy chicken fajita quesadilla home</td>\n",
       "    </tr>\n",
       "    <tr>\n",
       "      <th>2</th>\n",
       "      <td>The Hardest \"Walking Dead\" Video Game Quiz You...</td>\n",
       "      <td>clickbait</td>\n",
       "      <td>hardest walking dead video game quiz youll eve...</td>\n",
       "    </tr>\n",
       "    <tr>\n",
       "      <th>3</th>\n",
       "      <td>34 Online Shops Based In The Southeast You Sho...</td>\n",
       "      <td>clickbait</td>\n",
       "      <td>online shop based southeast shopping</td>\n",
       "    </tr>\n",
       "    <tr>\n",
       "      <th>4</th>\n",
       "      <td>US and France to work together for new Iran sa...</td>\n",
       "      <td>non-clickbait</td>\n",
       "      <td>u france work together new iran sanction</td>\n",
       "    </tr>\n",
       "    <tr>\n",
       "      <th>...</th>\n",
       "      <td>...</td>\n",
       "      <td>...</td>\n",
       "      <td>...</td>\n",
       "    </tr>\n",
       "    <tr>\n",
       "      <th>31995</th>\n",
       "      <td>Jennifer Lopez Was Perfect On Jimmy Fallon's \"...</td>\n",
       "      <td>clickbait</td>\n",
       "      <td>jennifer lopez perfect jimmy fallons ew</td>\n",
       "    </tr>\n",
       "    <tr>\n",
       "      <th>31996</th>\n",
       "      <td>Basketball: UAAP opens 2008-2009 season with n...</td>\n",
       "      <td>non-clickbait</td>\n",
       "      <td>basketball uaap open season new rule</td>\n",
       "    </tr>\n",
       "    <tr>\n",
       "      <th>31997</th>\n",
       "      <td>United States charges eleven in credit card fr...</td>\n",
       "      <td>non-clickbait</td>\n",
       "      <td>united state charge eleven credit card fraud case</td>\n",
       "    </tr>\n",
       "    <tr>\n",
       "      <th>31998</th>\n",
       "      <td>40 Of The Most Powerful Obama Moments Of 2015</td>\n",
       "      <td>clickbait</td>\n",
       "      <td>powerful obama moment</td>\n",
       "    </tr>\n",
       "    <tr>\n",
       "      <th>31999</th>\n",
       "      <td>Here's What The Universal Monsters Would Look ...</td>\n",
       "      <td>clickbait</td>\n",
       "      <td>here universal monster would look like today</td>\n",
       "    </tr>\n",
       "  </tbody>\n",
       "</table>\n",
       "<p>32000 rows × 3 columns</p>\n",
       "</div>"
      ],
      "text/plain": [
       "                                                headline      clickbait  \\\n",
       "0      This Is What $1 USD Gets You In Food All Aroun...      clickbait   \n",
       "1      Make These Easy Chicken Fajita Quesadillas At ...      clickbait   \n",
       "2      The Hardest \"Walking Dead\" Video Game Quiz You...      clickbait   \n",
       "3      34 Online Shops Based In The Southeast You Sho...      clickbait   \n",
       "4      US and France to work together for new Iran sa...  non-clickbait   \n",
       "...                                                  ...            ...   \n",
       "31995  Jennifer Lopez Was Perfect On Jimmy Fallon's \"...      clickbait   \n",
       "31996  Basketball: UAAP opens 2008-2009 season with n...  non-clickbait   \n",
       "31997  United States charges eleven in credit card fr...  non-clickbait   \n",
       "31998      40 Of The Most Powerful Obama Moments Of 2015      clickbait   \n",
       "31999  Here's What The Universal Monsters Would Look ...      clickbait   \n",
       "\n",
       "                                          headline_cleen  \n",
       "0                              usd get food around world  \n",
       "1               make easy chicken fajita quesadilla home  \n",
       "2      hardest walking dead video game quiz youll eve...  \n",
       "3                   online shop based southeast shopping  \n",
       "4               u france work together new iran sanction  \n",
       "...                                                  ...  \n",
       "31995            jennifer lopez perfect jimmy fallons ew  \n",
       "31996               basketball uaap open season new rule  \n",
       "31997  united state charge eleven credit card fraud case  \n",
       "31998                              powerful obama moment  \n",
       "31999       here universal monster would look like today  \n",
       "\n",
       "[32000 rows x 3 columns]"
      ]
     },
     "execution_count": 5,
     "metadata": {},
     "output_type": "execute_result"
    }
   ],
   "source": [
    "# 4) En la columna de \"clickbait\", cambia los 1 por la palabra \"clickbait\" y los 0 por \"non-clickbait\"\n",
    "# En este caso hacemos uso de la función replace para cambiar los valores de la columna clickbait, que básicamente te dice\n",
    "# que si es 1 es clickbait y si es 0 es non-clickbait.\n",
    "df['clickbait'] = df['clickbait'].replace({1:'clickbait',0:'non-clickbait'})\n",
    "df"
   ]
  },
  {
   "cell_type": "code",
   "execution_count": 6,
   "metadata": {},
   "outputs": [],
   "source": [
    "#Partimos datos para construir modelo\n",
    "from sklearn.model_selection import train_test_split\n",
    "# Variables de entrenamiento y prueba.\n",
    "X = df['headline_cleen']\n",
    "y = df['clickbait']\n",
    "# Dividimos los datos en entrenamiento y prueba.\n",
    "X_train, X_test, y_train, y_test = train_test_split(X, y, train_size=0.75, random_state=101)\n",
    "\n",
    "from sklearn.feature_extraction.text import TfidfVectorizer\n",
    "tfidf = TfidfVectorizer(ngram_range=(1,1), min_df=3)\n",
    "X_train_vectorized = tfidf.fit_transform(X_train)\n",
    "X_test_vectorized = tfidf.transform(X_test)\n"
   ]
  },
  {
   "cell_type": "markdown",
   "metadata": {},
   "source": [
    "# Árboles de Decisión"
   ]
  },
  {
   "cell_type": "code",
   "execution_count": 13,
   "metadata": {},
   "outputs": [
    {
     "data": {
      "text/html": [
       "<style>#sk-container-id-5 {color: black;}#sk-container-id-5 pre{padding: 0;}#sk-container-id-5 div.sk-toggleable {background-color: white;}#sk-container-id-5 label.sk-toggleable__label {cursor: pointer;display: block;width: 100%;margin-bottom: 0;padding: 0.3em;box-sizing: border-box;text-align: center;}#sk-container-id-5 label.sk-toggleable__label-arrow:before {content: \"▸\";float: left;margin-right: 0.25em;color: #696969;}#sk-container-id-5 label.sk-toggleable__label-arrow:hover:before {color: black;}#sk-container-id-5 div.sk-estimator:hover label.sk-toggleable__label-arrow:before {color: black;}#sk-container-id-5 div.sk-toggleable__content {max-height: 0;max-width: 0;overflow: hidden;text-align: left;background-color: #f0f8ff;}#sk-container-id-5 div.sk-toggleable__content pre {margin: 0.2em;color: black;border-radius: 0.25em;background-color: #f0f8ff;}#sk-container-id-5 input.sk-toggleable__control:checked~div.sk-toggleable__content {max-height: 200px;max-width: 100%;overflow: auto;}#sk-container-id-5 input.sk-toggleable__control:checked~label.sk-toggleable__label-arrow:before {content: \"▾\";}#sk-container-id-5 div.sk-estimator input.sk-toggleable__control:checked~label.sk-toggleable__label {background-color: #d4ebff;}#sk-container-id-5 div.sk-label input.sk-toggleable__control:checked~label.sk-toggleable__label {background-color: #d4ebff;}#sk-container-id-5 input.sk-hidden--visually {border: 0;clip: rect(1px 1px 1px 1px);clip: rect(1px, 1px, 1px, 1px);height: 1px;margin: -1px;overflow: hidden;padding: 0;position: absolute;width: 1px;}#sk-container-id-5 div.sk-estimator {font-family: monospace;background-color: #f0f8ff;border: 1px dotted black;border-radius: 0.25em;box-sizing: border-box;margin-bottom: 0.5em;}#sk-container-id-5 div.sk-estimator:hover {background-color: #d4ebff;}#sk-container-id-5 div.sk-parallel-item::after {content: \"\";width: 100%;border-bottom: 1px solid gray;flex-grow: 1;}#sk-container-id-5 div.sk-label:hover label.sk-toggleable__label {background-color: #d4ebff;}#sk-container-id-5 div.sk-serial::before {content: \"\";position: absolute;border-left: 1px solid gray;box-sizing: border-box;top: 0;bottom: 0;left: 50%;z-index: 0;}#sk-container-id-5 div.sk-serial {display: flex;flex-direction: column;align-items: center;background-color: white;padding-right: 0.2em;padding-left: 0.2em;position: relative;}#sk-container-id-5 div.sk-item {position: relative;z-index: 1;}#sk-container-id-5 div.sk-parallel {display: flex;align-items: stretch;justify-content: center;background-color: white;position: relative;}#sk-container-id-5 div.sk-item::before, #sk-container-id-5 div.sk-parallel-item::before {content: \"\";position: absolute;border-left: 1px solid gray;box-sizing: border-box;top: 0;bottom: 0;left: 50%;z-index: -1;}#sk-container-id-5 div.sk-parallel-item {display: flex;flex-direction: column;z-index: 1;position: relative;background-color: white;}#sk-container-id-5 div.sk-parallel-item:first-child::after {align-self: flex-end;width: 50%;}#sk-container-id-5 div.sk-parallel-item:last-child::after {align-self: flex-start;width: 50%;}#sk-container-id-5 div.sk-parallel-item:only-child::after {width: 0;}#sk-container-id-5 div.sk-dashed-wrapped {border: 1px dashed gray;margin: 0 0.4em 0.5em 0.4em;box-sizing: border-box;padding-bottom: 0.4em;background-color: white;}#sk-container-id-5 div.sk-label label {font-family: monospace;font-weight: bold;display: inline-block;line-height: 1.2em;}#sk-container-id-5 div.sk-label-container {text-align: center;}#sk-container-id-5 div.sk-container {/* jupyter's `normalize.less` sets `[hidden] { display: none; }` but bootstrap.min.css set `[hidden] { display: none !important; }` so we also need the `!important` here to be able to override the default hidden behavior on the sphinx rendered scikit-learn.org. See: https://github.com/scikit-learn/scikit-learn/issues/21755 */display: inline-block !important;position: relative;}#sk-container-id-5 div.sk-text-repr-fallback {display: none;}</style><div id=\"sk-container-id-5\" class=\"sk-top-container\"><div class=\"sk-text-repr-fallback\"><pre>DecisionTreeClassifier()</pre><b>In a Jupyter environment, please rerun this cell to show the HTML representation or trust the notebook. <br />On GitHub, the HTML representation is unable to render, please try loading this page with nbviewer.org.</b></div><div class=\"sk-container\" hidden><div class=\"sk-item\"><div class=\"sk-estimator sk-toggleable\"><input class=\"sk-toggleable__control sk-hidden--visually\" id=\"sk-estimator-id-5\" type=\"checkbox\" checked><label for=\"sk-estimator-id-5\" class=\"sk-toggleable__label sk-toggleable__label-arrow\">DecisionTreeClassifier</label><div class=\"sk-toggleable__content\"><pre>DecisionTreeClassifier()</pre></div></div></div></div></div>"
      ],
      "text/plain": [
       "DecisionTreeClassifier()"
      ]
     },
     "execution_count": 13,
     "metadata": {},
     "output_type": "execute_result"
    }
   ],
   "source": [
    "# Arboles de decisión\n",
    "from sklearn.tree import DecisionTreeClassifier\n",
    "modelo_arbol = DecisionTreeClassifier()\n",
    "modelo_arbol.fit(X_train_vectorized, y_train)"
   ]
  },
  {
   "cell_type": "code",
   "execution_count": 14,
   "metadata": {},
   "outputs": [
    {
     "name": "stdout",
     "output_type": "stream",
     "text": [
      "               precision    recall  f1-score   support\n",
      "\n",
      "    clickbait       0.85      0.94      0.89      4005\n",
      "non-clickbait       0.93      0.84      0.88      3995\n",
      "\n",
      "     accuracy                           0.89      8000\n",
      "    macro avg       0.89      0.89      0.89      8000\n",
      " weighted avg       0.89      0.89      0.89      8000\n",
      "\n"
     ]
    }
   ],
   "source": [
    "from sklearn.metrics import classification_report, confusion_matrix\n",
    "y_pred = modelo_arbol.predict(X_test_vectorized)\n",
    "print(classification_report(y_test, y_pred))\n"
   ]
  },
  {
   "cell_type": "code",
   "execution_count": 15,
   "metadata": {},
   "outputs": [
    {
     "data": {
      "text/plain": [
       "<Axes: >"
      ]
     },
     "execution_count": 15,
     "metadata": {},
     "output_type": "execute_result"
    },
    {
     "data": {
      "image/png": "[encoded data removed]",
      "text/plain": [
       "<Figure size 640x480 with 2 Axes>"
      ]
     },
     "metadata": {},
     "output_type": "display_data"
    }
   ],
   "source": [
    "import seaborn as sns\n",
    "sns.heatmap(confusion_matrix(y_test, y_pred), annot=True, cmap='Blues', fmt='d')"
   ]
  },
  {
   "cell_type": "markdown",
   "metadata": {},
   "source": [
    "# Modelo de Random Forest"
   ]
  },
  {
   "cell_type": "code",
   "execution_count": 16,
   "metadata": {},
   "outputs": [
    {
     "data": {
      "text/html": [
       "<style>#sk-container-id-6 {color: black;}#sk-container-id-6 pre{padding: 0;}#sk-container-id-6 div.sk-toggleable {background-color: white;}#sk-container-id-6 label.sk-toggleable__label {cursor: pointer;display: block;width: 100%;margin-bottom: 0;padding: 0.3em;box-sizing: border-box;text-align: center;}#sk-container-id-6 label.sk-toggleable__label-arrow:before {content: \"▸\";float: left;margin-right: 0.25em;color: #696969;}#sk-container-id-6 label.sk-toggleable__label-arrow:hover:before {color: black;}#sk-container-id-6 div.sk-estimator:hover label.sk-toggleable__label-arrow:before {color: black;}#sk-container-id-6 div.sk-toggleable__content {max-height: 0;max-width: 0;overflow: hidden;text-align: left;background-color: #f0f8ff;}#sk-container-id-6 div.sk-toggleable__content pre {margin: 0.2em;color: black;border-radius: 0.25em;background-color: #f0f8ff;}#sk-container-id-6 input.sk-toggleable__control:checked~div.sk-toggleable__content {max-height: 200px;max-width: 100%;overflow: auto;}#sk-container-id-6 input.sk-toggleable__control:checked~label.sk-toggleable__label-arrow:before {content: \"▾\";}#sk-container-id-6 div.sk-estimator input.sk-toggleable__control:checked~label.sk-toggleable__label {background-color: #d4ebff;}#sk-container-id-6 div.sk-label input.sk-toggleable__control:checked~label.sk-toggleable__label {background-color: #d4ebff;}#sk-container-id-6 input.sk-hidden--visually {border: 0;clip: rect(1px 1px 1px 1px);clip: rect(1px, 1px, 1px, 1px);height: 1px;margin: -1px;overflow: hidden;padding: 0;position: absolute;width: 1px;}#sk-container-id-6 div.sk-estimator {font-family: monospace;background-color: #f0f8ff;border: 1px dotted black;border-radius: 0.25em;box-sizing: border-box;margin-bottom: 0.5em;}#sk-container-id-6 div.sk-estimator:hover {background-color: #d4ebff;}#sk-container-id-6 div.sk-parallel-item::after {content: \"\";width: 100%;border-bottom: 1px solid gray;flex-grow: 1;}#sk-container-id-6 div.sk-label:hover label.sk-toggleable__label {background-color: #d4ebff;}#sk-container-id-6 div.sk-serial::before {content: \"\";position: absolute;border-left: 1px solid gray;box-sizing: border-box;top: 0;bottom: 0;left: 50%;z-index: 0;}#sk-container-id-6 div.sk-serial {display: flex;flex-direction: column;align-items: center;background-color: white;padding-right: 0.2em;padding-left: 0.2em;position: relative;}#sk-container-id-6 div.sk-item {position: relative;z-index: 1;}#sk-container-id-6 div.sk-parallel {display: flex;align-items: stretch;justify-content: center;background-color: white;position: relative;}#sk-container-id-6 div.sk-item::before, #sk-container-id-6 div.sk-parallel-item::before {content: \"\";position: absolute;border-left: 1px solid gray;box-sizing: border-box;top: 0;bottom: 0;left: 50%;z-index: -1;}#sk-container-id-6 div.sk-parallel-item {display: flex;flex-direction: column;z-index: 1;position: relative;background-color: white;}#sk-container-id-6 div.sk-parallel-item:first-child::after {align-self: flex-end;width: 50%;}#sk-container-id-6 div.sk-parallel-item:last-child::after {align-self: flex-start;width: 50%;}#sk-container-id-6 div.sk-parallel-item:only-child::after {width: 0;}#sk-container-id-6 div.sk-dashed-wrapped {border: 1px dashed gray;margin: 0 0.4em 0.5em 0.4em;box-sizing: border-box;padding-bottom: 0.4em;background-color: white;}#sk-container-id-6 div.sk-label label {font-family: monospace;font-weight: bold;display: inline-block;line-height: 1.2em;}#sk-container-id-6 div.sk-label-container {text-align: center;}#sk-container-id-6 div.sk-container {/* jupyter's `normalize.less` sets `[hidden] { display: none; }` but bootstrap.min.css set `[hidden] { display: none !important; }` so we also need the `!important` here to be able to override the default hidden behavior on the sphinx rendered scikit-learn.org. See: https://github.com/scikit-learn/scikit-learn/issues/21755 */display: inline-block !important;position: relative;}#sk-container-id-6 div.sk-text-repr-fallback {display: none;}</style><div id=\"sk-container-id-6\" class=\"sk-top-container\"><div class=\"sk-text-repr-fallback\"><pre>RandomForestClassifier()</pre><b>In a Jupyter environment, please rerun this cell to show the HTML representation or trust the notebook. <br />On GitHub, the HTML representation is unable to render, please try loading this page with nbviewer.org.</b></div><div class=\"sk-container\" hidden><div class=\"sk-item\"><div class=\"sk-estimator sk-toggleable\"><input class=\"sk-toggleable__control sk-hidden--visually\" id=\"sk-estimator-id-6\" type=\"checkbox\" checked><label for=\"sk-estimator-id-6\" class=\"sk-toggleable__label sk-toggleable__label-arrow\">RandomForestClassifier</label><div class=\"sk-toggleable__content\"><pre>RandomForestClassifier()</pre></div></div></div></div></div>"
      ],
      "text/plain": [
       "RandomForestClassifier()"
      ]
     },
     "execution_count": 16,
     "metadata": {},
     "output_type": "execute_result"
    }
   ],
   "source": [
    "from sklearn.ensemble import RandomForestClassifier\n",
    "modelo_rf = RandomForestClassifier()\n",
    "modelo_rf.fit(X_train_vectorized, y_train)"
   ]
  },
  {
   "cell_type": "code",
   "execution_count": 17,
   "metadata": {},
   "outputs": [
    {
     "name": "stdout",
     "output_type": "stream",
     "text": [
      "               precision    recall  f1-score   support\n",
      "\n",
      "    clickbait       0.90      0.95      0.92      4005\n",
      "non-clickbait       0.95      0.89      0.92      3995\n",
      "\n",
      "     accuracy                           0.92      8000\n",
      "    macro avg       0.92      0.92      0.92      8000\n",
      " weighted avg       0.92      0.92      0.92      8000\n",
      "\n"
     ]
    }
   ],
   "source": [
    "y_pred_1 = modelo_rf.predict(X_test_vectorized)\n",
    "print(classification_report(y_test, y_pred_1))"
   ]
  },
  {
   "cell_type": "code",
   "execution_count": 18,
   "metadata": {},
   "outputs": [
    {
     "data": {
      "text/plain": [
       "<Axes: >"
      ]
     },
     "execution_count": 18,
     "metadata": {},
     "output_type": "execute_result"
    },
    {
     "data": {
      "image/png": "[encoded data removed]",
      "text/plain": [
       "<Figure size 640x480 with 2 Axes>"
      ]
     },
     "metadata": {},
     "output_type": "display_data"
    }
   ],
   "source": [
    "import seaborn as sns\n",
    "sns.heatmap(confusion_matrix(y_test, y_pred), annot=True, cmap='Blues', fmt='d')"
   ]
  },
  {
   "cell_type": "code",
   "execution_count": 20,
   "metadata": {},
   "outputs": [
    {
     "data": {
      "text/html": [
       "<style>#sk-container-id-7 {color: black;}#sk-container-id-7 pre{padding: 0;}#sk-container-id-7 div.sk-toggleable {background-color: white;}#sk-container-id-7 label.sk-toggleable__label {cursor: pointer;display: block;width: 100%;margin-bottom: 0;padding: 0.3em;box-sizing: border-box;text-align: center;}#sk-container-id-7 label.sk-toggleable__label-arrow:before {content: \"▸\";float: left;margin-right: 0.25em;color: #696969;}#sk-container-id-7 label.sk-toggleable__label-arrow:hover:before {color: black;}#sk-container-id-7 div.sk-estimator:hover label.sk-toggleable__label-arrow:before {color: black;}#sk-container-id-7 div.sk-toggleable__content {max-height: 0;max-width: 0;overflow: hidden;text-align: left;background-color: #f0f8ff;}#sk-container-id-7 div.sk-toggleable__content pre {margin: 0.2em;color: black;border-radius: 0.25em;background-color: #f0f8ff;}#sk-container-id-7 input.sk-toggleable__control:checked~div.sk-toggleable__content {max-height: 200px;max-width: 100%;overflow: auto;}#sk-container-id-7 input.sk-toggleable__control:checked~label.sk-toggleable__label-arrow:before {content: \"▾\";}#sk-container-id-7 div.sk-estimator input.sk-toggleable__control:checked~label.sk-toggleable__label {background-color: #d4ebff;}#sk-container-id-7 div.sk-label input.sk-toggleable__control:checked~label.sk-toggleable__label {background-color: #d4ebff;}#sk-container-id-7 input.sk-hidden--visually {border: 0;clip: rect(1px 1px 1px 1px);clip: rect(1px, 1px, 1px, 1px);height: 1px;margin: -1px;overflow: hidden;padding: 0;position: absolute;width: 1px;}#sk-container-id-7 div.sk-estimator {font-family: monospace;background-color: #f0f8ff;border: 1px dotted black;border-radius: 0.25em;box-sizing: border-box;margin-bottom: 0.5em;}#sk-container-id-7 div.sk-estimator:hover {background-color: #d4ebff;}#sk-container-id-7 div.sk-parallel-item::after {content: \"\";width: 100%;border-bottom: 1px solid gray;flex-grow: 1;}#sk-container-id-7 div.sk-label:hover label.sk-toggleable__label {background-color: #d4ebff;}#sk-container-id-7 div.sk-serial::before {content: \"\";position: absolute;border-left: 1px solid gray;box-sizing: border-box;top: 0;bottom: 0;left: 50%;z-index: 0;}#sk-container-id-7 div.sk-serial {display: flex;flex-direction: column;align-items: center;background-color: white;padding-right: 0.2em;padding-left: 0.2em;position: relative;}#sk-container-id-7 div.sk-item {position: relative;z-index: 1;}#sk-container-id-7 div.sk-parallel {display: flex;align-items: stretch;justify-content: center;background-color: white;position: relative;}#sk-container-id-7 div.sk-item::before, #sk-container-id-7 div.sk-parallel-item::before {content: \"\";position: absolute;border-left: 1px solid gray;box-sizing: border-box;top: 0;bottom: 0;left: 50%;z-index: -1;}#sk-container-id-7 div.sk-parallel-item {display: flex;flex-direction: column;z-index: 1;position: relative;background-color: white;}#sk-container-id-7 div.sk-parallel-item:first-child::after {align-self: flex-end;width: 50%;}#sk-container-id-7 div.sk-parallel-item:last-child::after {align-self: flex-start;width: 50%;}#sk-container-id-7 div.sk-parallel-item:only-child::after {width: 0;}#sk-container-id-7 div.sk-dashed-wrapped {border: 1px dashed gray;margin: 0 0.4em 0.5em 0.4em;box-sizing: border-box;padding-bottom: 0.4em;background-color: white;}#sk-container-id-7 div.sk-label label {font-family: monospace;font-weight: bold;display: inline-block;line-height: 1.2em;}#sk-container-id-7 div.sk-label-container {text-align: center;}#sk-container-id-7 div.sk-container {/* jupyter's `normalize.less` sets `[hidden] { display: none; }` but bootstrap.min.css set `[hidden] { display: none !important; }` so we also need the `!important` here to be able to override the default hidden behavior on the sphinx rendered scikit-learn.org. See: https://github.com/scikit-learn/scikit-learn/issues/21755 */display: inline-block !important;position: relative;}#sk-container-id-7 div.sk-text-repr-fallback {display: none;}</style><div id=\"sk-container-id-7\" class=\"sk-top-container\"><div class=\"sk-text-repr-fallback\"><pre>RandomForestClassifier(n_estimators=1000, n_jobs=-1)</pre><b>In a Jupyter environment, please rerun this cell to show the HTML representation or trust the notebook. <br />On GitHub, the HTML representation is unable to render, please try loading this page with nbviewer.org.</b></div><div class=\"sk-container\" hidden><div class=\"sk-item\"><div class=\"sk-estimator sk-toggleable\"><input class=\"sk-toggleable__control sk-hidden--visually\" id=\"sk-estimator-id-7\" type=\"checkbox\" checked><label for=\"sk-estimator-id-7\" class=\"sk-toggleable__label sk-toggleable__label-arrow\">RandomForestClassifier</label><div class=\"sk-toggleable__content\"><pre>RandomForestClassifier(n_estimators=1000, n_jobs=-1)</pre></div></div></div></div></div>"
      ],
      "text/plain": [
       "RandomForestClassifier(n_estimators=1000, n_jobs=-1)"
      ]
     },
     "execution_count": 20,
     "metadata": {},
     "output_type": "execute_result"
    }
   ],
   "source": [
    "from sklearn.ensemble import RandomForestClassifier\n",
    "modelo_rf_2= RandomForestClassifier(n_jobs=-1, n_estimators=1000)\n",
    "modelo_rf_2.fit(X_train_vectorized, y_train)"
   ]
  },
  {
   "cell_type": "code",
   "execution_count": 21,
   "metadata": {},
   "outputs": [
    {
     "name": "stdout",
     "output_type": "stream",
     "text": [
      "               precision    recall  f1-score   support\n",
      "\n",
      "    clickbait       0.90      0.95      0.92      4005\n",
      "non-clickbait       0.95      0.89      0.92      3995\n",
      "\n",
      "     accuracy                           0.92      8000\n",
      "    macro avg       0.92      0.92      0.92      8000\n",
      " weighted avg       0.92      0.92      0.92      8000\n",
      "\n"
     ]
    }
   ],
   "source": [
    "# Clasificación reporte\n",
    "y_pred_2 = modelo_rf_2.predict(X_test_vectorized)\n",
    "print(classification_report(y_test, y_pred_2))"
   ]
  },
  {
   "cell_type": "code",
   "execution_count": null,
   "metadata": {},
   "outputs": [],
   "source": [
    "modelo_rf_4= RandomForestClassifier(n_jobs=-1,n_estimators=1000, criterion='entropy')\n",
    "modelo_rf_4.fit(X_train_vectorized, y_train)\n"
   ]
  },
  {
   "cell_type": "code",
   "execution_count": null,
   "metadata": {},
   "outputs": [],
   "source": [
    "# Clasificación reporte\n",
    "y_pred_4 = modelo_rf_4.predict(X_test_vectorized)\n",
    "print(classification_report(y_test, y_pred_4))"
   ]
  },
  {
   "cell_type": "code",
   "execution_count": null,
   "metadata": {},
   "outputs": [],
   "source": [
    "modelo_rf_3= RandomForestClassifier(n_estimators=50)\n",
    "modelo_rf_3.fit(X_train_vectorized, y_train)\n",
    "# Clasificación reporte\n",
    "y_pred_3 = modelo_rf_3.predict(X_test_vectorized)\n",
    "print(classification_report(y_test, y_pred_3))"
   ]
  },
  {
   "cell_type": "markdown",
   "metadata": {},
   "source": [
    "# Regresión Logística"
   ]
  },
  {
   "cell_type": "code",
   "execution_count": 7,
   "metadata": {},
   "outputs": [],
   "source": [
    "#importamos librerias para metricas y visualizacion\n",
    "import seaborn as sns\n",
    "from sklearn.metrics import classification_report, confusion_matrix"
   ]
  },
  {
   "cell_type": "code",
   "execution_count": 8,
   "metadata": {},
   "outputs": [
    {
     "name": "stdout",
     "output_type": "stream",
     "text": [
      "               precision    recall  f1-score   support\n",
      "\n",
      "    clickbait       0.96      0.94      0.95      6419\n",
      "non-clickbait       0.94      0.96      0.95      6381\n",
      "\n",
      "     accuracy                           0.95     12800\n",
      "    macro avg       0.95      0.95      0.95     12800\n",
      " weighted avg       0.95      0.95      0.95     12800\n",
      "\n"
     ]
    },
    {
     "data": {
      "image/png": "[encoded data removed]",
      "text/plain": [
       "<Figure size 640x480 with 2 Axes>"
      ]
     },
     "metadata": {},
     "output_type": "display_data"
    }
   ],
   "source": [
    "#Construimos y evaluamos regresion logistica base\n",
    "from sklearn.linear_model import LogisticRegression\n",
    "# Creamos una instancia de LogisticRegression\n",
    "model= LogisticRegression()\n",
    "# Entrenamos el modelo\n",
    "model.fit(X_train_vectorized, y_train)\n",
    "# Predecimos los valores correspondientes.\n",
    "y_pred = model.predict(X_test_vectorized)\n",
    "# Creamos la matriz de confusión\n",
    "sns.heatmap(confusion_matrix(y_test, y_pred), annot=True, cmap='BuGn', fmt='.2f')\n",
    "# Imprimimos el reporte de clasificación\n",
    "print(classification_report(y_test, y_pred))"
   ]
  },
  {
   "cell_type": "markdown",
   "metadata": {},
   "source": [
    "# Máquina de Soporte Vectorial"
   ]
  },
  {
   "cell_type": "code",
   "execution_count": 9,
   "metadata": {},
   "outputs": [
    {
     "name": "stdout",
     "output_type": "stream",
     "text": [
      "               precision    recall  f1-score   support\n",
      "\n",
      "    clickbait       0.97      0.95      0.96      6419\n",
      "non-clickbait       0.95      0.97      0.96      6381\n",
      "\n",
      "     accuracy                           0.96     12800\n",
      "    macro avg       0.96      0.96      0.96     12800\n",
      " weighted avg       0.96      0.96      0.96     12800\n",
      "\n"
     ]
    },
    {
     "data": {
      "image/png": "[encoded data removed]",
      "text/plain": [
       "<Figure size 640x480 with 2 Axes>"
      ]
     },
     "metadata": {},
     "output_type": "display_data"
    }
   ],
   "source": [
    "#Construimos y evaluamos maquinas de soporte vectorial base\n",
    "from sklearn.svm import SVC\n",
    "# Creamos una instancia de Support vector classifier\n",
    "model= SVC()\n",
    "# Entrenamos el modelo\n",
    "model.fit(X_train_vectorized, y_train)\n",
    "# Predecimos los valores correspondientes.\n",
    "y_pred = model.predict(X_test_vectorized)\n",
    "# Creamos la matriz de confusión\n",
    "sns.heatmap(confusion_matrix(y_test, y_pred), annot=True, cmap='BuGn', fmt='.2f')\n",
    "# Imprimimos el reporte de clasificación\n",
    "print(classification_report(y_test, y_pred))"
   ]
  },
  {
   "cell_type": "code",
   "execution_count": 10,
   "metadata": {},
   "outputs": [
    {
     "name": "stdout",
     "output_type": "stream",
     "text": [
      "               precision    recall  f1-score   support\n",
      "\n",
      "    clickbait       0.99      0.38      0.55      6419\n",
      "non-clickbait       0.62      1.00      0.76      6381\n",
      "\n",
      "     accuracy                           0.69     12800\n",
      "    macro avg       0.81      0.69      0.66     12800\n",
      " weighted avg       0.81      0.69      0.66     12800\n",
      "\n"
     ]
    },
    {
     "data": {
      "image/png": "[encoded data removed]",
      "text/plain": [
       "<Figure size 640x480 with 2 Axes>"
      ]
     },
     "metadata": {},
     "output_type": "display_data"
    }
   ],
   "source": [
    "#Construimos y evaluamos maquinas de soporte vectorial con un kernel lineal y c=0.01\n",
    "from sklearn.svm import SVC\n",
    "# Creamos una instancia de Support vector classifier\n",
    "model= SVC(kernel='linear', C=0.01)\n",
    "# Entrenamos el modelo\n",
    "model.fit(X_train_vectorized, y_train)\n",
    "# Predecimos los valores correspondientes.\n",
    "y_pred = model.predict(X_test_vectorized)\n",
    "# Creamos la matriz de confusión\n",
    "sns.heatmap(confusion_matrix(y_test, y_pred), annot=True, cmap='BuGn', fmt='.2f')\n",
    "# Imprimimos el reporte de clasificación\n",
    "print(classification_report(y_test, y_pred))"
   ]
  },
  {
   "cell_type": "code",
   "execution_count": 11,
   "metadata": {},
   "outputs": [
    {
     "name": "stdout",
     "output_type": "stream",
     "text": [
      "               precision    recall  f1-score   support\n",
      "\n",
      "    clickbait       0.98      0.81      0.89      6419\n",
      "non-clickbait       0.84      0.99      0.91      6381\n",
      "\n",
      "     accuracy                           0.90     12800\n",
      "    macro avg       0.91      0.90      0.90     12800\n",
      " weighted avg       0.91      0.90      0.90     12800\n",
      "\n"
     ]
    },
    {
     "data": {
      "image/png": "[encoded data removed]",
      "text/plain": [
       "<Figure size 640x480 with 2 Axes>"
      ]
     },
     "metadata": {},
     "output_type": "display_data"
    }
   ],
   "source": [
    "#Construimos y evaluamos maquinas de soporte vectorial con un kernel polinomial y degree=4\n",
    "from sklearn.svm import SVC\n",
    "# Creamos una instancia de Support vector classifier\n",
    "model= SVC(kernel='poly', degree=4)\n",
    "# Entrenamos el modelo\n",
    "model.fit(X_train_vectorized, y_train)\n",
    "# Predecimos los valores correspondientes.\n",
    "y_pred = model.predict(X_test_vectorized)\n",
    "# Creamos la matriz de confusión\n",
    "sns.heatmap(confusion_matrix(y_test, y_pred), annot=True, cmap='BuGn', fmt='.2f')\n",
    "# Imprimimos el reporte de clasificación\n",
    "print(classification_report(y_test, y_pred))"
   ]
  },
  {
   "cell_type": "code",
   "execution_count": null,
   "metadata": {},
   "outputs": [],
   "source": []
  }
 ],
 "metadata": {
  "kernelspec": {
   "display_name": "Python 3",
   "language": "python",
   "name": "python3"
  },
  "language_info": {
   "codemirror_mode": {
    "name": "ipython",
    "version": 3
   },
   "file_extension": ".py",
   "mimetype": "text/x-python",
   "name": "python",
   "nbconvert_exporter": "python",
   "pygments_lexer": "ipython3",
   "version": "3.11.1"
  },
  "orig_nbformat": 4
 },
 "nbformat": 4,
 "nbformat_minor": 2
}
